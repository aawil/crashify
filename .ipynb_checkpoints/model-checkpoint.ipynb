{
 "cells": [
  {
   "cell_type": "code",
   "execution_count": 1,
   "metadata": {},
   "outputs": [],
   "source": [
    "import pandas as pd\n",
    "import numpy as np\n",
    "from imblearn.over_sampling import SMOTE\n",
    "from sklearn.metrics import accuracy_score, f1_score\n",
    "from sklearn.metrics import precision_score\n",
    "from sklearn.metrics import confusion_matrix\n",
    "from sklearn.metrics import f1_score\n",
    "from sklearn.naive_bayes import GaussianNB\n",
    "from sklearn.linear_model import LogisticRegression\n",
    "from sklearn.neighbors import KNeighborsClassifier\n",
    "from sklearn.ensemble import RandomForestClassifier\n",
    "from sklearn.ensemble import AdaBoostClassifier\n",
    "from sklearn.svm import SVC\n",
    "from sklearn.model_selection import train_test_split\n",
    "import matplotlib.pyplot as plt\n",
    "%matplotlib inline"
   ]
  },
  {
   "cell_type": "markdown",
   "metadata": {},
   "source": [
    "The following set of functions takes the raw data extracted from the SQL tables and creates usable non-null feature columns. There's a little bit of cleaning, but this mostly involves creating dummies and filling nulls. For these nulls, I generally imputed the median (for continuous variables) or used the more frequent class (for binary variables)."
   ]
  },
  {
   "cell_type": "code",
   "execution_count": 11,
   "metadata": {},
   "outputs": [],
   "source": [
    "def clean_flight_hours(x):\n",
    "    invalids = [999.0, 9999.0, 99999.0, 999999.0]\n",
    "    for n in invalids:\n",
    "        if x==n:\n",
    "            x = np.nan\n",
    "    return x\n",
    "\n",
    "def code_certs(cert):\n",
    "    if cert==\"BASC\":\n",
    "        return 1\n",
    "    elif cert==\"SPRT\":\n",
    "        return 2\n",
    "    elif cert==\"CL3 \":\n",
    "        return 3\n",
    "    elif cert==\"CL2 \":\n",
    "        return 4\n",
    "    elif cert==\"CL1 \":\n",
    "        return 5\n",
    "    else:\n",
    "        return 0\n",
    "\n",
    "def clean_and_gen_features(df):\n",
    "    df.index = df.iloc[:, :2]\n",
    "    df = df.drop(['ev_id', 'aircraft_key'], axis=1)\n",
    "    \n",
    "    crew_vars = pd.Index(['crew_no_2', 'crew_category_2', 'crew_age_2', 'med_certf_2',\n",
    "                          'med_crtf_vldty_2', 'seatbelts_used_2', 'shldr_harn_used_2',\n",
    "                          'crew_tox_perf_2', 'pc_profession_2', 'flight_hours_2'])\n",
    "    old_cols = df.columns\n",
    "    cols = old_cols[:-10].union(crew_vars, sort=False)\n",
    "    df.columns = cols\n",
    "    df['y'] = np.where(df['category_no']=='02', 0, 1)\n",
    "    df = df[df['ev_type']=='ACC']\n",
    "    df['airport_dist'] = df['apt_dist'].fillna(0)\n",
    "    df['since_inspection'] = df['afm_hrs_last_insp'].fillna(df['afm_hrs_last_insp'].median())\n",
    "    df['scnd_pilot'] = np.where(df['second_pilot']==\"Y\", 1, 0)\n",
    "    df['personal_flight'] = np.where(df['type_fly']==\"PERS\", 1, 0)\n",
    "    df['instructional_flight'] = np.where(df['type_fly']==\"INST\", 1, 0)\n",
    "    df['cert_level'] = df['med_certf'].apply(code_certs)\n",
    "    df['crew_age'] = np.where(df['crew_age']<15.0, 15.0, df['crew_age'])\n",
    "    df['pilot_age'] = df['crew_age'].fillna(df['crew_age'].median())\n",
    "    df['pro_pilot'] = np.where(df['pc_profession']=='Y   ', 1, 0)\n",
    "    df['has_certs'] = np.where(df['certs_held']==\"Y\", 1, 0)\n",
    "    df['total_seats'] = df['total_seats'].apply(lambda x: np.nan if x > 1000 else x)\n",
    "    df['seats'] = df['total_seats'].fillna(df['total_seats'].median())\n",
    "    df['flight_hours'] = df['flight_hours'].apply(clean_flight_hours)\n",
    "    df['pilot_hours'] = df['flight_hours'].fillna(df['flight_hours'].median())\n",
    "    df['flight_hours_2'] = df['flight_hours_2'].apply(clean_flight_hours)\n",
    "    df['pilot_hours_2'] = df['flight_hours_2'].fillna(df['flight_hours'].median())\n",
    "    df['vis_sm'] = df['vis_sm'].apply(lambda x: 10 if x > 10 else x)\n",
    "    df['visibility'] = df['vis_sm'].fillna(10.0)\n",
    "    df['instructional'] = np.where((df['crew_category']==\"FLTI \") | (df['crew_category']==\"DSTU \"), 1, 0)\n",
    "    df['instructional'] = np.where((df['crew_category_2']==\"FLTI \") | (df['crew_category_2']==\"DSTU \"), 1, df['instructional'])\n",
    "    df['wind_velocity'] = df['wind_vel_kts'].fillna(df['wind_vel_kts'].median())\n",
    "    df['mid_air_acc'] = np.where((df['mid_air']==\"Y\"), 1, 0)\n",
    "    df['is_plane'] = np.where(df['acft_category']==\"AIR \", 1, 0)\n",
    "    df['flight_plan'] = np.where((df['flt_plan_filed'].isna()) | (df['flt_plan_filed']==\"NONE\"), 0, 1)\n",
    "    df['homebuilt_coded'] = np.where(df['homebuilt']==\"Y  \", 1, 0)\n",
    "    df['light_out'] = np.where(df['light_cond']==\"DAYL\", 0, 1)\n",
    "    df['airframe_hours'] = df['afm_hrs'].fillna(df['afm_hrs'].median())\n",
    "    df['gross_weight'] = df['cert_max_gr_wt'].fillna(df['cert_max_gr_wt'].median())\n",
    "    return df"
   ]
  },
  {
   "cell_type": "markdown",
   "metadata": {},
   "source": [
    "`adf_raw` is the aviation accident dataframe created in `extract_data.ipynb`."
   ]
  },
  {
   "cell_type": "code",
   "execution_count": 12,
   "metadata": {},
   "outputs": [
    {
     "name": "stderr",
     "output_type": "stream",
     "text": [
      "/anaconda3/lib/python3.7/site-packages/ipykernel_launcher.py:36: SettingWithCopyWarning: \n",
      "A value is trying to be set on a copy of a slice from a DataFrame.\n",
      "Try using .loc[row_indexer,col_indexer] = value instead\n",
      "\n",
      "See the caveats in the documentation: http://pandas.pydata.org/pandas-docs/stable/indexing.html#indexing-view-versus-copy\n"
     ]
    }
   ],
   "source": [
    "adf = clean_and_gen_features(adf_raw)"
   ]
  },
  {
   "cell_type": "markdown",
   "metadata": {},
   "source": [
    "Can't hurt to have a CSV backup."
   ]
  },
  {
   "cell_type": "code",
   "execution_count": 13,
   "metadata": {},
   "outputs": [],
   "source": [
    "adf.to_csv('adf_analysis.csv')"
   ]
  },
  {
   "cell_type": "markdown",
   "metadata": {},
   "source": [
    "Let's see how our target column looks, and then create our X and y variables for modeling."
   ]
  },
  {
   "cell_type": "code",
   "execution_count": 14,
   "metadata": {},
   "outputs": [
    {
     "data": {
      "text/plain": [
       "0    10845\n",
       "1     2771\n",
       "Name: y, dtype: int64"
      ]
     },
     "execution_count": 14,
     "metadata": {},
     "output_type": "execute_result"
    }
   ],
   "source": [
    "adf['y'].value_counts(dropna=False)"
   ]
  },
  {
   "cell_type": "code",
   "execution_count": 19,
   "metadata": {},
   "outputs": [],
   "source": [
    "features = ['homebuilt_coded', 'light_out', 'airframe_hours', 'gross_weight',\n",
    "            'visibility', 'wind_velocity', 'mid_air_acc', 'is_plane', 'instructional_flight',\n",
    "            'personal_flight', 'pilot_hours', 'pro_pilot', 'pilot_age', 'cert_level',  \n",
    "            'seats', 'scnd_pilot', 'since_inspection', 'airport_dist']\n",
    "X = adf[features]\n",
    "y = adf['y']"
   ]
  },
  {
   "cell_type": "markdown",
   "metadata": {},
   "source": [
    "Define some 'dumb' models to serve as baselines for our scoring metrics. \n",
    "\n",
    "`informed_guess_model` knows that 20% of accidents are human error. \n",
    "\n",
    "`random_guess_model` guesses human error or not at random.\n",
    "\n",
    "`always_zero` always chooses the majority class (human error). A good target to beat for overall accuracy, since this is unbalanced data."
   ]
  },
  {
   "cell_type": "code",
   "execution_count": 15,
   "metadata": {},
   "outputs": [],
   "source": [
    "def informed_guess_model(X):\n",
    "    np.random.seed(123)\n",
    "    length = X.shape[0]\n",
    "    pred = np.zeros(length)\n",
    "    cutoff = length // 5\n",
    "    pred[:cutoff] = 1\n",
    "    np.random.shuffle(pred)\n",
    "    return pred"
   ]
  },
  {
   "cell_type": "code",
   "execution_count": 16,
   "metadata": {},
   "outputs": [],
   "source": [
    "def random_guess_model(X):\n",
    "    np.random.seed(123)\n",
    "    length = X.shape[0]\n",
    "    pred = np.zeros(length)\n",
    "    cutoff = length // 2\n",
    "    pred[:cutoff] = 1\n",
    "    np.random.shuffle(pred)\n",
    "    return pred"
   ]
  },
  {
   "cell_type": "code",
   "execution_count": 17,
   "metadata": {},
   "outputs": [],
   "source": [
    "def always_zero_model(X):\n",
    "    length = X.shape[0]\n",
    "    pred = np.zeros(length)\n",
    "    return pred"
   ]
  },
  {
   "cell_type": "code",
   "execution_count": 20,
   "metadata": {},
   "outputs": [
    {
     "name": "stdout",
     "output_type": "stream",
     "text": [
      "0.49977967097532316\n",
      "0.28896544524480633\n"
     ]
    }
   ],
   "source": [
    "y_pred = random_guess_model(X)\n",
    "print(accuracy_score(y, y_pred))\n",
    "print(f1_score(y, y_pred))"
   ]
  },
  {
   "cell_type": "code",
   "execution_count": 22,
   "metadata": {},
   "outputs": [
    {
     "name": "stdout",
     "output_type": "stream",
     "text": [
      "0.6786133960047004\n",
      "0.20349472151437933\n"
     ]
    }
   ],
   "source": [
    "y_pred = informed_guess_model(X)\n",
    "print(accuracy_score(y, y_pred))\n",
    "print(f1_score(y, y_pred))"
   ]
  },
  {
   "cell_type": "code",
   "execution_count": 23,
   "metadata": {},
   "outputs": [
    {
     "name": "stdout",
     "output_type": "stream",
     "text": [
      "0.7964894242068156\n",
      "0.0\n"
     ]
    },
    {
     "name": "stderr",
     "output_type": "stream",
     "text": [
      "/anaconda3/lib/python3.7/site-packages/sklearn/metrics/classification.py:1143: UndefinedMetricWarning: F-score is ill-defined and being set to 0.0 due to no predicted samples.\n",
      "  'precision', 'predicted', average, warn_for)\n"
     ]
    }
   ],
   "source": [
    "y_pred = always_zero_model(X)\n",
    "print(accuracy_score(y, y_pred))\n",
    "print(f1_score(y, y_pred))"
   ]
  },
  {
   "cell_type": "markdown",
   "metadata": {},
   "source": [
    "Let's try out a bunch of classification models, using mostly default hyperparameters, and see how they do. At this point we're just trying to get a sense of what might work on this data."
   ]
  },
  {
   "cell_type": "code",
   "execution_count": 96,
   "metadata": {},
   "outputs": [],
   "source": [
    "X_train, X_test, y_train, y_test = train_test_split(X, y, random_state=123)"
   ]
  },
  {
   "cell_type": "code",
   "execution_count": 72,
   "metadata": {},
   "outputs": [],
   "source": [
    "def test_model(model):\n",
    "    model.fit(X_train, y_train)\n",
    "    model_name = str(model).split('(')[0]\n",
    "    print(model_name, \":\")\n",
    "    print(confusion_matrix(y_test, model.predict(X_test)))\n",
    "    print(\"Accuracy:\", accuracy_score(y_test, model.predict(X_test)))\n",
    "    print(\"F1 score\", f1_score(y_test, model.predict(X_test)))\n",
    "    print(\"\")"
   ]
  },
  {
   "cell_type": "code",
   "execution_count": 59,
   "metadata": {},
   "outputs": [
    {
     "name": "stdout",
     "output_type": "stream",
     "text": [
      "KNeighborsClassifier :\n",
      "[[2148  552]\n",
      " [ 540  164]]\n",
      "Accuracy: 0.6792009400705052\n",
      "F1 score 0.23098591549295774\n"
     ]
    }
   ],
   "source": [
    "knn = KNeighborsClassifier(n_neighbors=1)\n",
    "test_model(knn)"
   ]
  },
  {
   "cell_type": "code",
   "execution_count": 60,
   "metadata": {},
   "outputs": [
    {
     "name": "stdout",
     "output_type": "stream",
     "text": [
      "KNeighborsClassifier :\n",
      "[[2671   29]\n",
      " [ 690   14]]\n",
      "Accuracy: 0.7887779083431258\n",
      "F1 score 0.03748326639892905\n"
     ]
    }
   ],
   "source": [
    "knn10 = KNeighborsClassifier(n_neighbors=10)\n",
    "test_model(knn10)"
   ]
  },
  {
   "cell_type": "code",
   "execution_count": 61,
   "metadata": {},
   "outputs": [
    {
     "name": "stdout",
     "output_type": "stream",
     "text": [
      "RandomForestClassifier :\n",
      "[[2662   38]\n",
      " [ 686   18]]\n",
      "Accuracy: 0.7873090481786134\n",
      "F1 score 0.04736842105263159\n"
     ]
    }
   ],
   "source": [
    "rfc = RandomForestClassifier(n_estimators=100, random_state=123)\n",
    "test_model(rfc)"
   ]
  },
  {
   "cell_type": "code",
   "execution_count": 62,
   "metadata": {},
   "outputs": [
    {
     "name": "stdout",
     "output_type": "stream",
     "text": [
      "GaussianNB :\n",
      "[[2608   92]\n",
      " [ 671   33]]\n",
      "Accuracy: 0.7758519388954171\n",
      "F1 score 0.07961399276236429\n"
     ]
    }
   ],
   "source": [
    "gnb = GaussianNB()\n",
    "test_model(gnb)"
   ]
  },
  {
   "cell_type": "code",
   "execution_count": 63,
   "metadata": {},
   "outputs": [
    {
     "name": "stdout",
     "output_type": "stream",
     "text": [
      "SVC :\n",
      "[[2691    9]\n",
      " [ 699    5]]\n",
      "Accuracy: 0.7920094007050529\n",
      "F1 score 0.013927576601671309\n"
     ]
    }
   ],
   "source": [
    "svc = SVC(gamma='scale')\n",
    "test_model(svc)"
   ]
  },
  {
   "cell_type": "code",
   "execution_count": 64,
   "metadata": {},
   "outputs": [
    {
     "name": "stdout",
     "output_type": "stream",
     "text": [
      "AdaBoostClassifier :\n",
      "[[2683   17]\n",
      " [ 695    9]]\n",
      "Accuracy: 0.790834312573443\n",
      "F1 score 0.024657534246575345\n"
     ]
    }
   ],
   "source": [
    "ada = AdaBoostClassifier()\n",
    "ada.fit(X_train, y_train)\n",
    "test_model(ada)"
   ]
  },
  {
   "cell_type": "code",
   "execution_count": 97,
   "metadata": {},
   "outputs": [
    {
     "name": "stdout",
     "output_type": "stream",
     "text": [
      "LogisticRegression :\n",
      "[[2692    8]\n",
      " [ 698    6]]\n",
      "Accuracy: 0.7925969447708578\n",
      "F1 score 0.01671309192200557\n",
      "\n"
     ]
    }
   ],
   "source": [
    "lr = LogisticRegression(solver=\"lbfgs\", max_iter=5000)\n",
    "lr.fit(X_train, y_train)\n",
    "test_model(lr)"
   ]
  },
  {
   "cell_type": "markdown",
   "metadata": {},
   "source": [
    "It looks like most models have an issue with recall - they classify too many cases in the majority group. Oversampling our minority class should help with this."
   ]
  },
  {
   "cell_type": "code",
   "execution_count": 76,
   "metadata": {},
   "outputs": [],
   "source": [
    "smote_scale = 0.75\n",
    "\n",
    "X_train, X_test, y_train, y_test = train_test_split(X, y, random_state=123)\n",
    "smote = SMOTE(random_state=0, sampling_strategy=smote_scale)\n",
    "X_train, y_train = smote.fit_sample(X_train, y_train)"
   ]
  },
  {
   "cell_type": "markdown",
   "metadata": {},
   "source": [
    "Let's run through our model zoo again with the oversampled data."
   ]
  },
  {
   "cell_type": "code",
   "execution_count": 77,
   "metadata": {},
   "outputs": [
    {
     "name": "stdout",
     "output_type": "stream",
     "text": [
      "KNeighborsClassifier :\n",
      "[[1954  746]\n",
      " [ 494  210]]\n",
      "Accuracy: 0.63572267920094\n",
      "F1 score 0.2530120481927711\n",
      "\n",
      "KNeighborsClassifier :\n",
      "[[1991  709]\n",
      " [ 496  208]]\n",
      "Accuracy: 0.6460047003525264\n",
      "F1 score 0.256631708821715\n",
      "\n",
      "RandomForestClassifier :\n",
      "[[2595  105]\n",
      " [ 662   42]]\n",
      "Accuracy: 0.7746768507638073\n",
      "F1 score 0.09870740305522913\n",
      "\n",
      "GaussianNB :\n",
      "[[2603   97]\n",
      " [ 670   34]]\n",
      "Accuracy: 0.7746768507638073\n",
      "F1 score 0.081437125748503\n",
      "\n",
      "SVC :\n",
      "[[2573  127]\n",
      " [ 661   43]]\n",
      "Accuracy: 0.7685076380728555\n",
      "F1 score 0.09839816933638444\n",
      "\n",
      "AdaBoostClassifier :\n",
      "[[2529  171]\n",
      " [ 642   62]]\n",
      "Accuracy: 0.7611633372502937\n",
      "F1 score 0.13233724653148346\n",
      "\n",
      "LogisticRegression :\n",
      "[[2501  199]\n",
      " [ 622   82]]\n",
      "Accuracy: 0.7588131609870741\n",
      "F1 score 0.166497461928934\n",
      "\n"
     ]
    }
   ],
   "source": [
    "for model in [knn, knn10, rfc, gnb, svc, ada, lr]:\n",
    "    test_model(model)"
   ]
  },
  {
   "cell_type": "markdown",
   "metadata": {},
   "source": [
    "Logistic Regression looks good - high F1 score with decent accuracy, plus all the advantages of LR (fast, interpretable, probability predictions).\n",
    "\n",
    "Let's try to find an optimal oversampling strategy (minority/majority class ratio) by running a bunch of logistic regressions and graphing the accuracy and F1 scores."
   ]
  },
  {
   "cell_type": "code",
   "execution_count": 80,
   "metadata": {},
   "outputs": [
    {
     "data": {
      "text/plain": [
       "[<matplotlib.lines.Line2D at 0x1a25d527f0>]"
      ]
     },
     "execution_count": 80,
     "metadata": {},
     "output_type": "execute_result"
    },
    {
     "data": {
      "image/png": "[encoded data removed]",
      "text/plain": [
       "<Figure size 432x288 with 1 Axes>"
      ]
     },
     "metadata": {
      "needs_background": "light"
     },
     "output_type": "display_data"
    }
   ],
   "source": [
    "X_train, X_test, y_train, y_test = train_test_split(X, y, random_state=123)\n",
    "accs = []\n",
    "f1s = []\n",
    "lr = LogisticRegression(solver=\"lbfgs\", max_iter = 5000)\n",
    "for strat in np.linspace(0.3, 0.99, 50):\n",
    "    smote = SMOTE(random_state=0, sampling_strategy=strat)\n",
    "    X_resample, y_resample = smote.fit_sample(X_train, y_train)\n",
    "    lr.fit(X_resample, y_resample)\n",
    "    y_pred = lr.predict(X_test)\n",
    "    accs.append(accuracy_score(y_test, y_pred))\n",
    "    f1s.append(f1_score(y_test, y_pred))\n",
    "    \n",
    "plt.plot(np.linspace(0.3, 0.99, 50), accs)\n",
    "plt.plot(np.linspace(0.3, 0.99, 50), f1s)"
   ]
  },
  {
   "cell_type": "markdown",
   "metadata": {},
   "source": [
    "It looks like 0.9 is a pretty good tradeoff."
   ]
  },
  {
   "cell_type": "code",
   "execution_count": 108,
   "metadata": {},
   "outputs": [
    {
     "name": "stdout",
     "output_type": "stream",
     "text": [
      "LogisticRegression :\n",
      "[[2321  379]\n",
      " [ 552  152]]\n",
      "Accuracy: 0.7264982373678026\n",
      "F1 score 0.24615384615384614\n",
      "\n"
     ]
    }
   ],
   "source": [
    "smote_scale = 0.9\n",
    "\n",
    "X_train, X_test, y_train, y_test = train_test_split(X, y, random_state=123)\n",
    "smote = SMOTE(random_state=0, sampling_strategy=smote_scale)\n",
    "X_train, y_train = smote.fit_sample(X_train, y_train)\n",
    "\n",
    "test_model(lr)"
   ]
  },
  {
   "cell_type": "markdown",
   "metadata": {},
   "source": [
    "What if we try using something other than 0.5 for the decision threshold?"
   ]
  },
  {
   "cell_type": "code",
   "execution_count": 117,
   "metadata": {},
   "outputs": [
    {
     "name": "stdout",
     "output_type": "stream",
     "text": [
      "Best accuracy is 0.7931844888366627\n",
      "Best F1 score is 0.35084175084175084\n"
     ]
    },
    {
     "data": {
      "image/png": "[encoded data removed]",
      "text/plain": [
       "<Figure size 432x288 with 1 Axes>"
      ]
     },
     "metadata": {
      "needs_background": "light"
     },
     "output_type": "display_data"
    }
   ],
   "source": [
    "thresh_ps = np.linspace(.11,.9,1000)\n",
    "model_val_probs = lr.predict_proba(X_test)[:,1] \n",
    "\n",
    "acc_scores = []\n",
    "f1_scores = []\n",
    "for p in thresh_ps:\n",
    "    model_val_labels = model_val_probs >= p\n",
    "    acc_scores.append(accuracy_score(y_test, model_val_labels))\n",
    "    f1_scores.append(f1_score(y_test, model_val_labels))\n",
    "    \n",
    "plt.plot(thresh_ps, acc_scores)\n",
    "plt.plot(thresh_ps, f1_scores)\n",
    "plt.title('Accuracy and F1 score vs. Positive Class Decision Probability Threshold')\n",
    "plt.xlabel('P threshold')\n",
    "plt.ylabel('Accuracy, F1 score')\n",
    "\n",
    "best_acc_score = np.max(acc_scores)\n",
    "best_f1_score = np.max(f1_scores) \n",
    "best_thresh_p = thresh_ps[np.argmax(f1_scores)]\n",
    "\n",
    "print(f'Best accuracy is {best_acc_score}')\n",
    "print(f'Best F1 score is {best_f1_score}')"
   ]
  },
  {
   "cell_type": "markdown",
   "metadata": {},
   "source": [
    "Seems like we're best off sticking with 0.5. \n",
    "\n",
    "This model isn't fantastic - in particular, it is somewhat less accurate than just predicting 0 every time. Luckily, we have NTSB investigators and don't need to predict the cause of plane accidents using a handful of messy and sometimes missing variables."
   ]
  },
  {
   "cell_type": "markdown",
   "metadata": {},
   "source": [
    "Let's now train a LR model on our entire dataset for use in the Flask app."
   ]
  },
  {
   "cell_type": "code",
   "execution_count": 163,
   "metadata": {},
   "outputs": [
    {
     "name": "stdout",
     "output_type": "stream",
     "text": [
      "[[9243 1602]\n",
      " [2115  656]]\n",
      "Accuracy: 0.7270123384253819\n",
      "F1 score 0.2608868562338437\n"
     ]
    }
   ],
   "source": [
    "smote = SMOTE(random_state=0, sampling_strategy=0.90)\n",
    "X_smote, y_smote = smote.fit_sample(X, y)\n",
    "lr_all = LogisticRegression(solver=\"lbfgs\", max_iter=5000)\n",
    "lr_all.fit(X_smote, y_smote)\n",
    "print(confusion_matrix(y, lr_all.predict(X)))\n",
    "print(\"Accuracy:\", accuracy_score(y, lr_all.predict(X)))\n",
    "print(\"F1 score\", f1_score(y, lr_all.predict(X)))"
   ]
  },
  {
   "cell_type": "markdown",
   "metadata": {},
   "source": [
    "What do our actual coefficients look like?\n",
    "\n",
    "Three of the dummy variables have fairly strong coefficients. Aircraft that are home-built seem much more likely to be in non-pilot-error accidents, which makes sense. And mid-air accidents and instructional flights are more likely to be caused by human error - also fairly logical."
   ]
  },
  {
   "cell_type": "code",
   "execution_count": 166,
   "metadata": {},
   "outputs": [
    {
     "data": {
      "text/html": [
       "<div>\n",
       "<style scoped>\n",
       "    .dataframe tbody tr th:only-of-type {\n",
       "        vertical-align: middle;\n",
       "    }\n",
       "\n",
       "    .dataframe tbody tr th {\n",
       "        vertical-align: top;\n",
       "    }\n",
       "\n",
       "    .dataframe thead th {\n",
       "        text-align: right;\n",
       "    }\n",
       "</style>\n",
       "<table border=\"1\" class=\"dataframe\">\n",
       "  <thead>\n",
       "    <tr style=\"text-align: right;\">\n",
       "      <th></th>\n",
       "      <th>0</th>\n",
       "      <th>1</th>\n",
       "    </tr>\n",
       "  </thead>\n",
       "  <tbody>\n",
       "    <tr>\n",
       "      <th>0</th>\n",
       "      <td>homebuilt_coded</td>\n",
       "      <td>1.534540</td>\n",
       "    </tr>\n",
       "    <tr>\n",
       "      <th>15</th>\n",
       "      <td>scnd_pilot</td>\n",
       "      <td>1.197545</td>\n",
       "    </tr>\n",
       "    <tr>\n",
       "      <th>11</th>\n",
       "      <td>pro_pilot</td>\n",
       "      <td>1.146412</td>\n",
       "    </tr>\n",
       "    <tr>\n",
       "      <th>7</th>\n",
       "      <td>is_plane</td>\n",
       "      <td>1.104862</td>\n",
       "    </tr>\n",
       "    <tr>\n",
       "      <th>4</th>\n",
       "      <td>visibility</td>\n",
       "      <td>1.052750</td>\n",
       "    </tr>\n",
       "    <tr>\n",
       "      <th>14</th>\n",
       "      <td>seats</td>\n",
       "      <td>1.003513</td>\n",
       "    </tr>\n",
       "    <tr>\n",
       "      <th>10</th>\n",
       "      <td>pilot_hours</td>\n",
       "      <td>1.000029</td>\n",
       "    </tr>\n",
       "    <tr>\n",
       "      <th>16</th>\n",
       "      <td>since_inspection</td>\n",
       "      <td>1.000026</td>\n",
       "    </tr>\n",
       "    <tr>\n",
       "      <th>2</th>\n",
       "      <td>airframe_hours</td>\n",
       "      <td>1.000001</td>\n",
       "    </tr>\n",
       "    <tr>\n",
       "      <th>3</th>\n",
       "      <td>gross_weight</td>\n",
       "      <td>1.000000</td>\n",
       "    </tr>\n",
       "    <tr>\n",
       "      <th>17</th>\n",
       "      <td>airport_dist</td>\n",
       "      <td>0.999966</td>\n",
       "    </tr>\n",
       "    <tr>\n",
       "      <th>5</th>\n",
       "      <td>wind_velocity</td>\n",
       "      <td>0.992295</td>\n",
       "    </tr>\n",
       "    <tr>\n",
       "      <th>12</th>\n",
       "      <td>pilot_age</td>\n",
       "      <td>0.990236</td>\n",
       "    </tr>\n",
       "    <tr>\n",
       "      <th>13</th>\n",
       "      <td>cert_level</td>\n",
       "      <td>0.972542</td>\n",
       "    </tr>\n",
       "    <tr>\n",
       "      <th>1</th>\n",
       "      <td>light_out</td>\n",
       "      <td>0.864023</td>\n",
       "    </tr>\n",
       "    <tr>\n",
       "      <th>9</th>\n",
       "      <td>personal_flight</td>\n",
       "      <td>0.817741</td>\n",
       "    </tr>\n",
       "    <tr>\n",
       "      <th>6</th>\n",
       "      <td>mid_air_acc</td>\n",
       "      <td>0.588318</td>\n",
       "    </tr>\n",
       "    <tr>\n",
       "      <th>8</th>\n",
       "      <td>instructional_flight</td>\n",
       "      <td>0.500724</td>\n",
       "    </tr>\n",
       "  </tbody>\n",
       "</table>\n",
       "</div>"
      ],
      "text/plain": [
       "                       0         1\n",
       "0        homebuilt_coded  1.534540\n",
       "15            scnd_pilot  1.197545\n",
       "11             pro_pilot  1.146412\n",
       "7               is_plane  1.104862\n",
       "4             visibility  1.052750\n",
       "14                 seats  1.003513\n",
       "10           pilot_hours  1.000029\n",
       "16      since_inspection  1.000026\n",
       "2         airframe_hours  1.000001\n",
       "3           gross_weight  1.000000\n",
       "17          airport_dist  0.999966\n",
       "5          wind_velocity  0.992295\n",
       "12             pilot_age  0.990236\n",
       "13            cert_level  0.972542\n",
       "1              light_out  0.864023\n",
       "9        personal_flight  0.817741\n",
       "6            mid_air_acc  0.588318\n",
       "8   instructional_flight  0.500724"
      ]
     },
     "execution_count": 166,
     "metadata": {},
     "output_type": "execute_result"
    }
   ],
   "source": [
    "coefs = lr_all.coef_[0]\n",
    "pd.DataFrame(zip(features, np.exp(coefs))).sort_values(1, ascending=False)"
   ]
  },
  {
   "cell_type": "markdown",
   "metadata": {},
   "source": [
    "We need our LR model and our dataset for the Flask app, so let's pickle them both."
   ]
  },
  {
   "cell_type": "code",
   "execution_count": 167,
   "metadata": {},
   "outputs": [],
   "source": [
    "import pickle\n",
    "\n",
    "with open('./lr.pkl', 'wb') as f:\n",
    "    pickle.dump(lr_all, f)\n",
    "    \n",
    "with open('./adf.pkl', 'wb') as f:\n",
    "    pickle.dump(adf, f)"
   ]
  }
 ],
 "metadata": {
  "kernelspec": {
   "display_name": "Python 3",
   "language": "python",
   "name": "python3"
  },
  "language_info": {
   "codemirror_mode": {
    "name": "ipython",
    "version": 3
   },
   "file_extension": ".py",
   "mimetype": "text/x-python",
   "name": "python",
   "nbconvert_exporter": "python",
   "pygments_lexer": "ipython3",
   "version": "3.7.3"
  }
 },
 "nbformat": 4,
 "nbformat_minor": 2
}
