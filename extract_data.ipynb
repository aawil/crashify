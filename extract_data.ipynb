{
 "cells": [
  {
   "cell_type": "code",
   "execution_count": 1,
   "metadata": {},
   "outputs": [],
   "source": [
    "import psycopg2\n",
    "import pandas.io.sql as pd_sql\n",
    "import pandas as pd"
   ]
  },
  {
   "cell_type": "markdown",
   "metadata": {},
   "source": [
    "Data is from the [NTSB Aviation Accident Database](https://app.ntsb.gov/avdata/), which is provided in MS Access format. I exported it to a local PostgreSQL database using `mdb-tools`, with the following commands:\n",
    "\n",
    "\n",
    "(Command line:)\n",
    "```\n",
    "mdb-schema avall.mdb postgres | tr 'A-Z' 'a-z' | psql -d avall\n",
    "mdb-export avall.mdb $tablename > csv/$tablename.csv\n",
    "```\n",
    "\n",
    "(In psql:)\n",
    "```\n",
    "\\copy $tablename from './$tablename.csv' with delimiter ',' csv header;\n",
    "```"
   ]
  },
  {
   "cell_type": "code",
   "execution_count": 2,
   "metadata": {},
   "outputs": [],
   "source": [
    "conn = psycopg2.connect(\"dbname=avall user=aaron\")\n",
    "cur = conn.cursor()"
   ]
  },
  {
   "cell_type": "markdown",
   "metadata": {},
   "source": [
    "First, let's create a view using unique aircraft in the `findings` table. Here `02` means human error and `None` is no human error. This will serve as the 'master' list."
   ]
  },
  {
   "cell_type": "code",
   "execution_count": 3,
   "metadata": {},
   "outputs": [],
   "source": [
    "query = \"\"\"\n",
    "CREATE OR REPLACE VIEW master AS\n",
    "(\n",
    "    WITH human_error AS\n",
    "    (\n",
    "        SELECT\n",
    "            ev_id,\n",
    "            aircraft_key,\n",
    "            category_no\n",
    "        FROM\n",
    "            findings\n",
    "        WHERE\n",
    "            category_no = '02'\n",
    "    )\n",
    "    SELECT DISTINCT\n",
    "        findings.ev_id,\n",
    "        findings.aircraft_key,\n",
    "        human_error.category_no\n",
    "    FROM\n",
    "        findings\n",
    "        LEFT JOIN\n",
    "            human_error\n",
    "        ON\n",
    "            findings.ev_id = human_error.ev_id\n",
    "            AND findings.aircraft_key = human_error.aircraft_key\n",
    ");\n",
    "\"\"\"\n",
    "cur.execute(query)"
   ]
  },
  {
   "cell_type": "markdown",
   "metadata": {},
   "source": [
    "Now let's get our desired columns from `aircraft`..."
   ]
  },
  {
   "cell_type": "code",
   "execution_count": 4,
   "metadata": {},
   "outputs": [],
   "source": [
    "query = \"\"\"\n",
    "CREATE OR REPLACE VIEW aircraft_selected AS\n",
    "(\n",
    "    SELECT\n",
    "        ev_id,\n",
    "        aircraft_key,\n",
    "        cert_max_gr_wt,\n",
    "        total_seats,\n",
    "        num_eng,\n",
    "        afm_hrs_last_insp,\n",
    "        afm_hrs,\n",
    "        dprt_time,\n",
    "        flt_plan_filed,\n",
    "        damage,\n",
    "        acft_category,\n",
    "        homebuilt,\n",
    "        type_last_insp,\n",
    "        oper_same,\n",
    "        certs_held,\n",
    "        type_fly,\n",
    "        second_pilot,\n",
    "        dprt_pt_same_ev\n",
    "    FROM\n",
    "        aircraft\n",
    ");\n",
    "\"\"\"\n",
    "cur.execute(query)"
   ]
  },
  {
   "cell_type": "markdown",
   "metadata": {},
   "source": [
    "...from `events`..."
   ]
  },
  {
   "cell_type": "code",
   "execution_count": 5,
   "metadata": {},
   "outputs": [],
   "source": [
    "query = \"\"\"\n",
    "CREATE OR REPLACE VIEW events_selected AS \n",
    "(\n",
    "    SELECT\n",
    "        ev_id,\n",
    "        ev_time,\n",
    "        ev_type,\n",
    "        apt_dist,\n",
    "        apt_elev,\n",
    "        sky_nonceil_ht,\n",
    "        sky_ceil_ht,\n",
    "        vis_rvr,\n",
    "        vis_rvv,\n",
    "        vis_sm,\n",
    "        wx_temp,\n",
    "        wx_dew_pt,\n",
    "        wind_vel_kts,\n",
    "        gust_kts,\n",
    "        altimeter,\n",
    "        inj_tot_t,\n",
    "        mid_air,\n",
    "        on_ground_collision,\n",
    "        ev_nr_apt_loc,\n",
    "        light_cond,\n",
    "        sky_cond_nonceil,\n",
    "        sky_cond_ceil,\n",
    "        ev_highest_injury \n",
    "    FROM\n",
    "        events\n",
    ");\n",
    "\"\"\"\n",
    "cur.execute(query)"
   ]
  },
  {
   "cell_type": "markdown",
   "metadata": {},
   "source": [
    "...from `flight_crew`, only for the first two crew members..."
   ]
  },
  {
   "cell_type": "code",
   "execution_count": 6,
   "metadata": {},
   "outputs": [],
   "source": [
    "query = \"\"\"\n",
    "SELECT\n",
    "    ev_id,\n",
    "    aircraft_key,\n",
    "    crew_no,\n",
    "    crew_category,\n",
    "    crew_age,\n",
    "    med_certf,\n",
    "    med_crtf_vldty,\n",
    "    seatbelts_used,\n",
    "    shldr_harn_used,\n",
    "    crew_tox_perf,\n",
    "    pc_profession\n",
    "FROM\n",
    "    flight_crew\n",
    "WHERE\n",
    "    crew_no <= 2\n",
    "LIMIT 10;\n",
    "\"\"\"\n",
    "cur.execute(query)"
   ]
  },
  {
   "cell_type": "markdown",
   "metadata": {},
   "source": [
    "Now merge our `flight_crew` data with `flight_time`, keeping the columns we want, for crew member 1..."
   ]
  },
  {
   "cell_type": "code",
   "execution_count": 7,
   "metadata": {},
   "outputs": [],
   "source": [
    "query = \"\"\"\n",
    "CREATE OR REPLACE VIEW crew_1 AS\n",
    "(\n",
    "    WITH xp AS\n",
    "    (\n",
    "        SELECT\n",
    "            ev_id,\n",
    "            aircraft_key,\n",
    "            crew_no,\n",
    "            flight_hours\n",
    "        FROM\n",
    "            flight_time\n",
    "        WHERE\n",
    "            flight_type = 'TOTL'\n",
    "            AND flight_craft = 'ALL '\n",
    "    )\n",
    "    SELECT\n",
    "        fc.ev_id,\n",
    "        fc.aircraft_key,\n",
    "        fc.crew_no,\n",
    "        fc.crew_category,\n",
    "        fc.crew_age,\n",
    "        fc.med_certf,\n",
    "        fc.med_crtf_vldty,\n",
    "        fc.seatbelts_used,\n",
    "        fc.shldr_harn_used,\n",
    "        fc.crew_tox_perf,\n",
    "        fc.pc_profession,\n",
    "        xp.flight_hours\n",
    "    FROM\n",
    "        flight_crew AS fc\n",
    "    LEFT JOIN xp ON\n",
    "        fc.ev_id=xp.ev_id\n",
    "        AND fc.aircraft_key=xp.aircraft_key\n",
    "        AND fc.crew_no=xp.crew_no\n",
    "    WHERE\n",
    "        fc.crew_no = 1\n",
    ");\n",
    "\"\"\"\n",
    "cur.execute(query)"
   ]
  },
  {
   "cell_type": "markdown",
   "metadata": {},
   "source": [
    "...and for crew member 2."
   ]
  },
  {
   "cell_type": "code",
   "execution_count": 8,
   "metadata": {},
   "outputs": [],
   "source": [
    "query = \"\"\"\n",
    "CREATE OR REPLACE VIEW crew_2 AS\n",
    "(\n",
    "    WITH xp AS\n",
    "    (\n",
    "        SELECT\n",
    "            ev_id,\n",
    "            aircraft_key,\n",
    "            crew_no,\n",
    "            flight_hours\n",
    "        FROM\n",
    "            flight_time\n",
    "        WHERE\n",
    "            flight_type = 'TOTL'\n",
    "            AND flight_craft = 'ALL '\n",
    "    )\n",
    "    SELECT\n",
    "        fc.ev_id,\n",
    "        fc.aircraft_key,\n",
    "        fc.crew_no,\n",
    "        fc.crew_category,\n",
    "        fc.crew_age,\n",
    "        fc.med_certf,\n",
    "        fc.med_crtf_vldty,\n",
    "        fc.seatbelts_used,\n",
    "        fc.shldr_harn_used,\n",
    "        fc.crew_tox_perf,\n",
    "        fc.pc_profession,\n",
    "        xp.flight_hours\n",
    "    FROM\n",
    "        flight_crew AS fc\n",
    "    LEFT JOIN xp ON\n",
    "        fc.ev_id=xp.ev_id\n",
    "        AND fc.aircraft_key=xp.aircraft_key\n",
    "        AND fc.crew_no=xp.crew_no\n",
    "    WHERE\n",
    "        fc.crew_no = 2\n",
    ");\n",
    "\"\"\"\n",
    "cur.execute(query)"
   ]
  },
  {
   "cell_type": "markdown",
   "metadata": {},
   "source": [
    "Now sew all our views together and use `pd_sql` to convert to a DataFrame."
   ]
  },
  {
   "cell_type": "code",
   "execution_count": 9,
   "metadata": {},
   "outputs": [],
   "source": [
    "query = \"\"\"\n",
    "SELECT\n",
    "    master.*,\n",
    "    aircraft_selected.*,\n",
    "    events_selected.*,\n",
    "    crew_1.*,\n",
    "    crew_2.*\n",
    "FROM\n",
    "    master\n",
    "LEFT JOIN\n",
    "    aircraft_selected\n",
    "    ON\n",
    "        master.ev_id = aircraft_selected.ev_id\n",
    "        AND master.aircraft_key = aircraft_selected.aircraft_key\n",
    "LEFT JOIN\n",
    "    events_selected\n",
    "    ON\n",
    "        master.ev_id = events_selected.ev_id\n",
    "LEFT JOIN\n",
    "    crew_1\n",
    "    ON\n",
    "        master.ev_id = crew_1.ev_id\n",
    "        AND master.aircraft_key = crew_1.aircraft_key\n",
    "LEFT JOIN\n",
    "    crew_2\n",
    "    ON\n",
    "        master.ev_id = crew_2.ev_id\n",
    "        AND master.aircraft_key = crew_2.aircraft_key\n",
    ";\n",
    "\"\"\"\n",
    "adf = pd_sql.read_sql(query, conn)"
   ]
  },
  {
   "cell_type": "markdown",
   "metadata": {},
   "source": [
    "Pickle our df, and let's get a CSV in there too for more portable storage."
   ]
  },
  {
   "cell_type": "code",
   "execution_count": 10,
   "metadata": {},
   "outputs": [],
   "source": [
    "adf.to_pickle('./adf_raw.pkl')\n",
    "adf.to_csv('./adf_raw.csv')"
   ]
  }
 ],
 "metadata": {
  "kernelspec": {
   "display_name": "Python 3",
   "language": "python",
   "name": "python3"
  },
  "language_info": {
   "codemirror_mode": {
    "name": "ipython",
    "version": 3
   },
   "file_extension": ".py",
   "mimetype": "text/x-python",
   "name": "python",
   "nbconvert_exporter": "python",
   "pygments_lexer": "ipython3",
   "version": "3.7.3"
  }
 },
 "nbformat": 4,
 "nbformat_minor": 2
}
